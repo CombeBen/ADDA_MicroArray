{
 "cells": [
  {
   "cell_type": "code",
   "execution_count": 1,
   "metadata": {},
   "outputs": [
    {
     "name": "stdout",
     "output_type": "stream",
     "text": [
      "Using cuda:1 from NVIDIA GeForce RTX 2080 Ti\n"
     ]
    }
   ],
   "source": [
    "import torch as torch\n",
    "import pandas as pd\n",
    "import numpy as np\n",
    "from sklearn import preprocessing\n",
    "from neuralnetwork import *\n",
    "from reading import *\n",
    "import os\n",
    "from tqdm import tqdm\n",
    "import matplotlib.pyplot as plt\n",
    "from sklearn.decomposition import PCA\n",
    "from sklearn.preprocessing import StandardScaler\n",
    "\n",
    "torch.cuda.set_device(1)\n",
    "device = (\"cuda:1\" if torch.cuda.is_available() else\"cpu\")\n",
    "print(f\"Using {device} from {torch.cuda.get_device_name()}\")"
   ]
  },
  {
   "cell_type": "code",
   "execution_count": 2,
   "metadata": {},
   "outputs": [
    {
     "name": "stdout",
     "output_type": "stream",
     "text": [
      "Selection Cell domain source\n",
      "All done\n",
      "Name of the variable containing all cell data : cell_data\n",
      "_________________________\n",
      "Selection Patient domain source\n"
     ]
    },
    {
     "ename": "KeyboardInterrupt",
     "evalue": "",
     "output_type": "error",
     "traceback": [
      "\u001b[0;31m---------------------------------------------------------------------------\u001b[0m",
      "\u001b[0;31mKeyboardInterrupt\u001b[0m                         Traceback (most recent call last)",
      "\u001b[0;32m/tmp/ipykernel_870740/2777072985.py\u001b[0m in \u001b[0;36m<module>\u001b[0;34m\u001b[0m\n\u001b[1;32m      1\u001b[0m \u001b[0mdataCell\u001b[0m \u001b[0;34m=\u001b[0m \u001b[0mdomain_selection\u001b[0m\u001b[0;34m(\u001b[0m\u001b[0;36m2\u001b[0m\u001b[0;34m)\u001b[0m\u001b[0;34m\u001b[0m\u001b[0;34m\u001b[0m\u001b[0m\n\u001b[1;32m      2\u001b[0m \u001b[0mprint\u001b[0m\u001b[0;34m(\u001b[0m\u001b[0;34m\"_________________________\"\u001b[0m\u001b[0;34m)\u001b[0m\u001b[0;34m\u001b[0m\u001b[0;34m\u001b[0m\u001b[0m\n\u001b[0;32m----> 3\u001b[0;31m \u001b[0mdataPatient\u001b[0m \u001b[0;34m=\u001b[0m \u001b[0mdomain_selection\u001b[0m\u001b[0;34m(\u001b[0m\u001b[0;36m3\u001b[0m\u001b[0;34m)\u001b[0m\u001b[0;34m\u001b[0m\u001b[0;34m\u001b[0m\u001b[0m\n\u001b[0m\u001b[1;32m      4\u001b[0m \u001b[0mprint\u001b[0m\u001b[0;34m(\u001b[0m\u001b[0;34m\"_________________________\"\u001b[0m\u001b[0;34m)\u001b[0m\u001b[0;34m\u001b[0m\u001b[0;34m\u001b[0m\u001b[0m\n\u001b[1;32m      5\u001b[0m \u001b[0mcellDataloaders\u001b[0m\u001b[0;34m,\u001b[0m \u001b[0minput_dim\u001b[0m \u001b[0;34m=\u001b[0m \u001b[0marrange_data_into_dataloaders\u001b[0m\u001b[0;34m(\u001b[0m\u001b[0mdataCell\u001b[0m\u001b[0;34m,\u001b[0m \u001b[0mdevice\u001b[0m\u001b[0;34m=\u001b[0m\u001b[0mdevice\u001b[0m\u001b[0;34m)\u001b[0m\u001b[0;34m\u001b[0m\u001b[0;34m\u001b[0m\u001b[0m\n",
      "\u001b[0;32m~/reading.py\u001b[0m in \u001b[0;36mdomain_selection\u001b[0;34m(val)\u001b[0m\n\u001b[1;32m     44\u001b[0m         \u001b[0mprint\u001b[0m\u001b[0;34m(\u001b[0m\u001b[0;34m\"Selection Patient domain source\"\u001b[0m\u001b[0;34m)\u001b[0m\u001b[0;34m\u001b[0m\u001b[0;34m\u001b[0m\u001b[0m\n\u001b[1;32m     45\u001b[0m         \u001b[0;32mif\u001b[0m\u001b[0;34m(\u001b[0m\u001b[0mos\u001b[0m\u001b[0;34m.\u001b[0m\u001b[0mpath\u001b[0m\u001b[0;34m.\u001b[0m\u001b[0mexists\u001b[0m\u001b[0;34m(\u001b[0m\u001b[0;34m'serialized_object/patient_data_MA.npy'\u001b[0m\u001b[0;34m)\u001b[0m\u001b[0;34m)\u001b[0m\u001b[0;34m:\u001b[0m\u001b[0;34m\u001b[0m\u001b[0;34m\u001b[0m\u001b[0m\n\u001b[0;32m---> 46\u001b[0;31m             \u001b[0mpatient_data\u001b[0m \u001b[0;34m=\u001b[0m \u001b[0mread_patient_numpy\u001b[0m\u001b[0;34m(\u001b[0m\u001b[0;34m)\u001b[0m\u001b[0;34m\u001b[0m\u001b[0;34m\u001b[0m\u001b[0m\n\u001b[0m\u001b[1;32m     47\u001b[0m         \u001b[0;32melse\u001b[0m\u001b[0;34m:\u001b[0m\u001b[0;34m\u001b[0m\u001b[0;34m\u001b[0m\u001b[0m\n\u001b[1;32m     48\u001b[0m             \u001b[0mpatient_data\u001b[0m \u001b[0;34m=\u001b[0m \u001b[0mwrite_patient_numpy\u001b[0m\u001b[0;34m(\u001b[0m\u001b[0;34m)\u001b[0m\u001b[0;34m\u001b[0m\u001b[0;34m\u001b[0m\u001b[0m\n",
      "\u001b[0;32m~/reading.py\u001b[0m in \u001b[0;36mread_patient_numpy\u001b[0;34m()\u001b[0m\n\u001b[1;32m    142\u001b[0m     \u001b[0mbut\u001b[0m \u001b[0mquickly\u001b[0m \u001b[0mload\u001b[0m \u001b[0mthe\u001b[0m \u001b[0mpickle\u001b[0m \u001b[0mfile\u001b[0m\u001b[0;34m.\u001b[0m\u001b[0;34m\u001b[0m\u001b[0;34m\u001b[0m\u001b[0m\n\u001b[1;32m    143\u001b[0m     '''\n\u001b[0;32m--> 144\u001b[0;31m     \u001b[0mpatient_data\u001b[0m \u001b[0;34m=\u001b[0m \u001b[0mnp\u001b[0m\u001b[0;34m.\u001b[0m\u001b[0mload\u001b[0m\u001b[0;34m(\u001b[0m\u001b[0;34m\"serialized_object/patient_data_MA.npy\"\u001b[0m\u001b[0;34m,\u001b[0m\u001b[0mallow_pickle\u001b[0m\u001b[0;34m=\u001b[0m\u001b[0;32mTrue\u001b[0m\u001b[0;34m)\u001b[0m\u001b[0;34m\u001b[0m\u001b[0;34m\u001b[0m\u001b[0m\n\u001b[0m\u001b[1;32m    145\u001b[0m     \u001b[0mprint\u001b[0m\u001b[0;34m(\u001b[0m\u001b[0;34m\"All done\\nName of the variable containing all the data : Patient_data\"\u001b[0m\u001b[0;34m)\u001b[0m\u001b[0;34m\u001b[0m\u001b[0;34m\u001b[0m\u001b[0m\n\u001b[1;32m    146\u001b[0m     \u001b[0;32mreturn\u001b[0m \u001b[0mpatient_data\u001b[0m\u001b[0;34m\u001b[0m\u001b[0;34m\u001b[0m\u001b[0m\n",
      "\u001b[0;32m~/pytorch/lib/python3.7/site-packages/numpy/lib/npyio.py\u001b[0m in \u001b[0;36mload\u001b[0;34m(file, mmap_mode, allow_pickle, fix_imports, encoding)\u001b[0m\n\u001b[1;32m    439\u001b[0m             \u001b[0;32melse\u001b[0m\u001b[0;34m:\u001b[0m\u001b[0;34m\u001b[0m\u001b[0;34m\u001b[0m\u001b[0m\n\u001b[1;32m    440\u001b[0m                 return format.read_array(fid, allow_pickle=allow_pickle,\n\u001b[0;32m--> 441\u001b[0;31m                                          pickle_kwargs=pickle_kwargs)\n\u001b[0m\u001b[1;32m    442\u001b[0m         \u001b[0;32melse\u001b[0m\u001b[0;34m:\u001b[0m\u001b[0;34m\u001b[0m\u001b[0;34m\u001b[0m\u001b[0m\n\u001b[1;32m    443\u001b[0m             \u001b[0;31m# Try a pickle\u001b[0m\u001b[0;34m\u001b[0m\u001b[0;34m\u001b[0m\u001b[0;34m\u001b[0m\u001b[0m\n",
      "\u001b[0;32m~/pytorch/lib/python3.7/site-packages/numpy/lib/format.py\u001b[0m in \u001b[0;36mread_array\u001b[0;34m(fp, allow_pickle, pickle_kwargs)\u001b[0m\n\u001b[1;32m    755\u001b[0m         \u001b[0;32mif\u001b[0m \u001b[0misfileobj\u001b[0m\u001b[0;34m(\u001b[0m\u001b[0mfp\u001b[0m\u001b[0;34m)\u001b[0m\u001b[0;34m:\u001b[0m\u001b[0;34m\u001b[0m\u001b[0;34m\u001b[0m\u001b[0m\n\u001b[1;32m    756\u001b[0m             \u001b[0;31m# We can use the fast fromfile() function.\u001b[0m\u001b[0;34m\u001b[0m\u001b[0;34m\u001b[0m\u001b[0;34m\u001b[0m\u001b[0m\n\u001b[0;32m--> 757\u001b[0;31m             \u001b[0marray\u001b[0m \u001b[0;34m=\u001b[0m \u001b[0mnumpy\u001b[0m\u001b[0;34m.\u001b[0m\u001b[0mfromfile\u001b[0m\u001b[0;34m(\u001b[0m\u001b[0mfp\u001b[0m\u001b[0;34m,\u001b[0m \u001b[0mdtype\u001b[0m\u001b[0;34m=\u001b[0m\u001b[0mdtype\u001b[0m\u001b[0;34m,\u001b[0m \u001b[0mcount\u001b[0m\u001b[0;34m=\u001b[0m\u001b[0mcount\u001b[0m\u001b[0;34m)\u001b[0m\u001b[0;34m\u001b[0m\u001b[0;34m\u001b[0m\u001b[0m\n\u001b[0m\u001b[1;32m    758\u001b[0m         \u001b[0;32melse\u001b[0m\u001b[0;34m:\u001b[0m\u001b[0;34m\u001b[0m\u001b[0;34m\u001b[0m\u001b[0m\n\u001b[1;32m    759\u001b[0m             \u001b[0;31m# This is not a real file. We have to read it the\u001b[0m\u001b[0;34m\u001b[0m\u001b[0;34m\u001b[0m\u001b[0;34m\u001b[0m\u001b[0m\n",
      "\u001b[0;31mKeyboardInterrupt\u001b[0m: "
     ]
    }
   ],
   "source": [
    "dataCell = domain_selection(2)\n",
    "print(\"_________________________\")\n",
    "dataPatient = domain_selection(3)\n",
    "print(\"_________________________\")\n",
    "cellDataloaders, input_dim = arrange_data_into_dataloaders(dataCell, device=device)\n",
    "print(\"_________________________\")\n",
    "patientDataloaders, input_dim = arrange_data_into_dataloaders(dataPatient, device=device)\n",
    "output_dim = 1\n",
    "net1 = Network(input_dim,output_dim).to(device)\n",
    "loss_function = torch.nn.BCEWithLogitsLoss()\n",
    "optimizer = torch.optim.Adam(net1.parameters(), lr=0.0001)"
   ]
  },
  {
   "cell_type": "code",
   "execution_count": null,
   "metadata": {},
   "outputs": [],
   "source": [
    "X_fc1=[]\n",
    "X_fc2=[]\n",
    "X_fc3=[]"
   ]
  },
  {
   "cell_type": "code",
   "execution_count": null,
   "metadata": {},
   "outputs": [],
   "source": [
    "label_patient= []\n",
    "for i in patientDataloaders[0]:\n",
    "    _,y = i\n",
    "    for j in range(len(y)):\n",
    "        label_patient.append(y[j].cpu().clone().numpy())"
   ]
  },
  {
   "cell_type": "code",
   "execution_count": null,
   "metadata": {},
   "outputs": [],
   "source": [
    "label_cell= []\n",
    "for i in cellDataloaders[0]:\n",
    "    _,y = i\n",
    "    for j in range(len(y)):\n",
    "        label_cell.append(y[j].cpu().clone().numpy())"
   ]
  },
  {
   "cell_type": "markdown",
   "metadata": {},
   "source": [
    "0 = Patient.Normal || 1 = Patient.Cancer || 2 = Cell.Normal || 3 = Cell.Cancer"
   ]
  },
  {
   "cell_type": "code",
   "execution_count": null,
   "metadata": {},
   "outputs": [],
   "source": [
    "Y_label_domain=[]\n",
    "for i in range(len(label_patient)):\n",
    "    if label_patient[i]==0:\n",
    "        Y_label_domain.append(0)\n",
    "    else :\n",
    "        Y_label_domain.append(1)\n",
    "\n",
    "for i in range(len(label_cell)):\n",
    "    if label_cell[i]==0:\n",
    "        Y_label_domain.append(2)\n",
    "    else :\n",
    "        Y_label_domain.append(3)"
   ]
  },
  {
   "cell_type": "code",
   "execution_count": null,
   "metadata": {},
   "outputs": [],
   "source": [
    "Y_label_domain = np.array(Y_label_domain)"
   ]
  },
  {
   "cell_type": "markdown",
   "metadata": {},
   "source": [
    "# Entrainement Cell ------> Prediction Patient"
   ]
  },
  {
   "cell_type": "code",
   "execution_count": null,
   "metadata": {},
   "outputs": [],
   "source": [
    "tqdm(mean_network(100,1, net1, cellDataloaders,patientDataloaders))"
   ]
  },
  {
   "cell_type": "code",
   "execution_count": null,
   "metadata": {},
   "outputs": [],
   "source": [
    "net1.fc1.register_forward_hook(forward_hook(X_fc1))\n",
    "net1.fc2.register_forward_hook(forward_hook(X_fc2))\n",
    "net1.fc3.register_forward_hook(forward_hook(X_fc3))"
   ]
  },
  {
   "cell_type": "code",
   "execution_count": null,
   "metadata": {
    "tags": []
   },
   "outputs": [],
   "source": [
    "_ = evaluate_epoch( net1, cellDataloaders[0],loss_function)"
   ]
  },
  {
   "cell_type": "code",
   "execution_count": null,
   "metadata": {},
   "outputs": [],
   "source": [
    "X_cell_fc1, Y_cell_fc1 = construct_list_hook(X_fc1, cellDataloaders)\n",
    "X_cell_fc2, Y_cell_fc2 = construct_list_hook(X_fc2, cellDataloaders)\n",
    "X_cell_fc3, Y_cell_fc3 = construct_list_hook(X_fc3, cellDataloaders)"
   ]
  },
  {
   "cell_type": "code",
   "execution_count": null,
   "metadata": {},
   "outputs": [],
   "source": [
    "X_fc1.clear()\n",
    "X_fc2.clear()\n",
    "X_fc3.clear()"
   ]
  },
  {
   "cell_type": "code",
   "execution_count": null,
   "metadata": {},
   "outputs": [],
   "source": [
    "_ = evaluate_epoch( net1, patientDataloaders[0], loss_function)"
   ]
  },
  {
   "cell_type": "code",
   "execution_count": null,
   "metadata": {},
   "outputs": [],
   "source": [
    "X_patient_fc1, Y_patient_fc1 = construct_list_hook(X_fc1, patientDataloaders)\n",
    "X_patient_fc2, Y_patient_fc2 = construct_list_hook(X_fc2, patientDataloaders)\n",
    "X_patient_fc3, Y_patient_fc3 = construct_list_hook(X_fc3, patientDataloaders)"
   ]
  },
  {
   "cell_type": "code",
   "execution_count": null,
   "metadata": {},
   "outputs": [],
   "source": [
    "scaler = StandardScaler()\n",
    "\n",
    "Xs_cell_fc1 = scaler.fit_transform(X_cell_fc1)\n",
    "Xs_cell_fc2 = scaler.fit_transform(X_cell_fc2)\n",
    "Xs_cell_fc3 = scaler.fit_transform(X_cell_fc3)\n",
    "\n",
    "Xs_patient_fc1 = scaler.fit_transform(X_patient_fc1)\n",
    "Xs_patient_fc2 = scaler.fit_transform(X_patient_fc2)\n",
    "Xs_patient_fc3 = scaler.fit_transform(X_patient_fc3)\n",
    "\n",
    "pca2D = PCA(n_components=2)\n",
    "\n",
    "Xt_cell_fc1 = pca2D.fit_transform(Xs_cell_fc1)\n",
    "Xt_cell_fc2 = pca2D.fit_transform(Xs_cell_fc2)\n",
    "Xt_cell_fc3 = pca2D.fit_transform(Xs_cell_fc3)\n",
    "\n",
    "Xt_patient_fc1 = pca2D.fit_transform(Xs_patient_fc1)\n",
    "Xt_patient_fc2 = pca2D.fit_transform(Xs_patient_fc2)\n",
    "Xt_patient_fc3 = pca2D.fit_transform(Xs_patient_fc3)"
   ]
  },
  {
   "cell_type": "code",
   "execution_count": null,
   "metadata": {
    "tags": []
   },
   "outputs": [],
   "source": [
    "distribution =[]\n",
    "for i in range(len(X_patient_fc1)):\n",
    "    distribution.append(1)\n",
    "\n",
    "for i in range(len(X_cell_fc1)):\n",
    "    distribution.append(0)"
   ]
  },
  {
   "cell_type": "code",
   "execution_count": null,
   "metadata": {},
   "outputs": [],
   "source": [
    "X_all_fc1 = X_patient_fc1 + X_cell_fc1\n",
    "X_all_fc2 = X_patient_fc2 + X_cell_fc2\n",
    "X_all_fc3 = X_patient_fc3 + X_cell_fc3\n",
    "\n",
    "Xs_all_fc1 = scaler.fit_transform(X_all_fc1)\n",
    "Xs_all_fc2 = scaler.fit_transform(X_all_fc2)\n",
    "Xs_all_fc3 = scaler.fit_transform(X_all_fc3)\n",
    "\n",
    "Xt_all_fc1 = pca2D.fit_transform(Xs_all_fc1)\n",
    "print(pca2D.explained_variance_ratio_)\n",
    "Xt_all_fc2 = pca2D.fit_transform(Xs_all_fc2)\n",
    "print(pca2D.explained_variance_ratio_)\n",
    "Xt_all_fc3 = pca2D.fit_transform(Xs_all_fc3)\n",
    "print(pca2D.explained_variance_ratio_)"
   ]
  },
  {
   "cell_type": "markdown",
   "metadata": {},
   "source": [
    "# PCA"
   ]
  },
  {
   "cell_type": "code",
   "execution_count": null,
   "metadata": {},
   "outputs": [],
   "source": [
    "fig4 = plt.figure(figsize=(12,12))\n",
    "fig4.suptitle(\"PCA Training on cell, Predicting Patient\", fontsize=16)\n",
    "gs = fig4.add_gridspec(2,2, hspace=0,wspace=0)\n",
    "(ax1, ax2),(ax3,ax4) = gs.subplots(sharex='col', sharey='row')\n",
    "scatter = ax1.scatter(Xt_all_fc1[:,0],Xt_all_fc1[:,1], s=2,c=Y_label_domain)\n",
    "ax1.legend(handles = scatter.legend_elements()[0], labels=['patient Normal','patient cancer','cell Normal','cell cancer'])\n",
    "ax1.set_title(\"Couche 1\")\n",
    "scatter = ax2.scatter(Xt_all_fc2[:,0],Xt_all_fc2[:,1], s=2,c=Y_label_domain)\n",
    "ax2.legend(handles = scatter.legend_elements()[0], labels=['patient Normal','patient cancer','cell Normal','cell cancer'])\n",
    "ax2.set_title(\"Couche 2\")\n",
    "scatter =ax3.scatter(Xt_all_fc3[:,0],Xt_all_fc3[:,1], s=2,c=Y_label_domain)\n",
    "ax3.legend(handles = scatter.legend_elements()[0], labels=['patient Normal','patient cancer','cell Normal','cell cancer'])\n",
    "ax3.set_title(\"Couche 3\",y=-0.01)\n",
    "for ax in fig4.get_axes():\n",
    "    ax.label_outer()\n",
    "fig4.savefig(\"MLP_PCA_Cell_to_Patient_domain_and_label.png\",bbox_inches='tight')"
   ]
  },
  {
   "cell_type": "markdown",
   "metadata": {},
   "source": [
    "# UMAP"
   ]
  },
  {
   "cell_type": "code",
   "execution_count": null,
   "metadata": {},
   "outputs": [],
   "source": [
    "import umap.plot\n",
    "import umap"
   ]
  },
  {
   "cell_type": "code",
   "execution_count": null,
   "metadata": {},
   "outputs": [],
   "source": [
    "%%time\n",
    "mapper_fc1 = umap.UMAP(n_neighbors=15, min_dist=0.1,n_components=2).fit(Xs_all_fc1)\n",
    "mapper_fc2 = umap.UMAP(n_neighbors=15, min_dist=0.1,n_components=2).fit(Xs_all_fc2)\n",
    "mapper_fc3 = umap.UMAP(n_neighbors=15, min_dist=0.1,n_components=2).fit(Xs_all_fc3)"
   ]
  },
  {
   "cell_type": "code",
   "execution_count": null,
   "metadata": {},
   "outputs": [],
   "source": [
    "distribution = np.array(distribution)"
   ]
  },
  {
   "cell_type": "code",
   "execution_count": null,
   "metadata": {},
   "outputs": [],
   "source": [
    "umap.plot.points(mapper_fc1, labels=distribution, color_key_cmap='Paired')"
   ]
  },
  {
   "cell_type": "code",
   "execution_count": null,
   "metadata": {},
   "outputs": [],
   "source": [
    "umap.plot.points(mapper_fc2, labels=distribution, color_key_cmap='Paired')"
   ]
  },
  {
   "cell_type": "code",
   "execution_count": null,
   "metadata": {},
   "outputs": [],
   "source": [
    "umap.plot.points(mapper_fc3, labels=distribution, color_key_cmap='Paired')"
   ]
  },
  {
   "cell_type": "markdown",
   "metadata": {},
   "source": [
    "# T-SNE"
   ]
  },
  {
   "cell_type": "code",
   "execution_count": null,
   "metadata": {},
   "outputs": [],
   "source": [
    "from sklearn.manifold import TSNE"
   ]
  },
  {
   "cell_type": "code",
   "execution_count": null,
   "metadata": {},
   "outputs": [],
   "source": [
    "Xe_all_fc1 = TSNE().fit_transform(Xs_all_fc1)\n",
    "Xe_all_fc2 = TSNE().fit_transform(Xs_all_fc2)\n",
    "Xe_all_fc3 = TSNE().fit_transform(Xs_all_fc3)"
   ]
  },
  {
   "cell_type": "code",
   "execution_count": null,
   "metadata": {},
   "outputs": [],
   "source": [
    "fig5 = plt.figure(figsize=(12,12))\n",
    "fig5.suptitle(\"TSNE Training Cell, Predicting Patient\", fontsize=16)\n",
    "gs = fig5.add_gridspec(2,2, hspace=0,wspace=0)\n",
    "(ax1, ax2),(ax3,ax4) = gs.subplots(sharex='col', sharey='row')\n",
    "scatter = ax1.scatter(Xe_all_fc1[:,0],Xe_all_fc1[:,1], s=2,c=Y_label_domain)\n",
    "ax1.legend(handles = scatter.legend_elements()[0], labels=['patient Normal','patient cancer','cell Normal','cell cancer'])\n",
    "ax1.set_title(\"Couche 1\")\n",
    "scatter = ax2.scatter(Xe_all_fc2[:,0],Xe_all_fc2[:,1], s=2,c=Y_label_domain)\n",
    "ax2.legend(handles = scatter.legend_elements()[0], labels=['patient Normal','patient cancer','cell Normal','cell cancer'])\n",
    "ax2.set_title(\"Couche 2\")\n",
    "scatter = ax3.scatter(Xe_all_fc3[:,0],Xe_all_fc3[:,1], s=2,c=Y_label_domain)\n",
    "ax3.legend(handles = scatter.legend_elements()[0], labels=['patient Normal','patient cancer','cell Normal','cell cancer'])\n",
    "ax3.set_title(\"Couche 3\",y=-0.01)\n",
    "for ax in fig5.get_axes():\n",
    "    ax.label_outer()\n",
    "fig5.savefig(\"MLP_TSNE_Cell_to_Patient_domain_and_label.png\",bbox_inches='tight')"
   ]
  },
  {
   "cell_type": "code",
   "execution_count": null,
   "metadata": {},
   "outputs": [],
   "source": []
  }
 ],
 "metadata": {
  "kernelspec": {
   "display_name": "pytorch",
   "language": "python",
   "name": "pytorch"
  },
  "language_info": {
   "codemirror_mode": {
    "name": "ipython",
    "version": 3
   },
   "file_extension": ".py",
   "mimetype": "text/x-python",
   "name": "python",
   "nbconvert_exporter": "python",
   "pygments_lexer": "ipython3",
   "version": "3.7.3"
  }
 },
 "nbformat": 4,
 "nbformat_minor": 4
}
