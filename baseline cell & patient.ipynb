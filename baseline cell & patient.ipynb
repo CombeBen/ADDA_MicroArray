{
 "cells": [
  {
   "cell_type": "code",
   "execution_count": 1,
   "metadata": {},
   "outputs": [],
   "source": [
    "import torch as torch\n",
    "import pandas as pd\n",
    "import numpy as np\n",
    "from sklearn import preprocessing\n",
    "from neuralnetwork import *\n",
    "from reading import *\n",
    "import os"
   ]
  },
  {
   "cell_type": "code",
   "execution_count": 2,
   "metadata": {},
   "outputs": [
    {
     "name": "stdout",
     "output_type": "stream",
     "text": [
      "Using cuda:1 from NVIDIA GeForce RTX 2080 Ti\n"
     ]
    }
   ],
   "source": [
    "torch.cuda.set_device(1)\n",
    "device = (\"cuda:1\" if torch.cuda.is_available() else\"cpu\")\n",
    "print(f\"Using {device} from {torch.cuda.get_device_name()}\")"
   ]
  },
  {
   "cell_type": "markdown",
   "metadata": {},
   "source": [
    "# Selection du domaine"
   ]
  },
  {
   "cell_type": "markdown",
   "metadata": {},
   "source": [
    "La sélection du domaine Source ce fait avec l'option suivante :\n",
    "- 1 : toutes les données\n",
    "- 2 : uniquement les données Cell Line\n",
    "- 3 : uniquement les données Patients"
   ]
  },
  {
   "cell_type": "code",
   "execution_count": 3,
   "metadata": {},
   "outputs": [
    {
     "name": "stdout",
     "output_type": "stream",
     "text": [
      "Selection Cell domain source\n",
      "All done\n",
      "Name of the variable containing all cell data : cell_data\n",
      "Selection Patient domain source\n",
      "All done\n",
      "Name of the variable containing all the data : Patient_data\n"
     ]
    }
   ],
   "source": [
    "dataCell = domain_selection(2)\n",
    "dataPatient = domain_selection(3)"
   ]
  },
  {
   "cell_type": "code",
   "execution_count": 4,
   "metadata": {},
   "outputs": [
    {
     "name": "stdout",
     "output_type": "stream",
     "text": [
      "6643 elements in the dataset\n",
      "4649 elements in trainset\n",
      "997 elements in valset\n",
      "997 elements in testset\n",
      "21244 elements in the dataset\n",
      "14870 elements in trainset\n",
      "3187 elements in valset\n",
      "3187 elements in testset\n"
     ]
    }
   ],
   "source": [
    "evalDataloaders, input_dim = arrange_data_into_dataloaders(dataCell, device=device)\n",
    "trainDataloaders, input_dim = arrange_data_into_dataloaders(dataPatient, device=device)"
   ]
  },
  {
   "cell_type": "code",
   "execution_count": 5,
   "metadata": {},
   "outputs": [],
   "source": [
    "output_dim = 1"
   ]
  },
  {
   "cell_type": "code",
   "execution_count": null,
   "metadata": {},
   "outputs": [],
   "source": [
    "net1 = Network(input_dim,output_dim).to(device)\n",
    "#net2 = Network(input_dim,output_dim).to(device)"
   ]
  },
  {
   "cell_type": "code",
   "execution_count": null,
   "metadata": {
    "tags": []
   },
   "outputs": [],
   "source": [
    "res = mean_network(100, 20, net1, trainDataloaders, trainDataloaders)"
   ]
  },
  {
   "cell_type": "code",
   "execution_count": null,
   "metadata": {},
   "outputs": [],
   "source": [
    "res1=[]\n",
    "res0=[]\n",
    "for i in range(res[1].size):\n",
    "    res1.append(res[1][i])\n",
    "res4=[]\n",
    "for i in range(res[0].size):\n",
    "    res0.append(res[0][i])"
   ]
  },
  {
   "cell_type": "code",
   "execution_count": null,
   "metadata": {},
   "outputs": [],
   "source": [
    "df_val = pd.DataFrame(data=res[0],columns=['accuracy_val'])\n",
    "df_test = pd.DataFram(data=res[1],columns=['test_val'])"
   ]
  },
  {
   "cell_type": "code",
   "execution_count": null,
   "metadata": {},
   "outputs": [],
   "source": [
    "df_acc.mean()\n",
    "df_val.mean()"
   ]
  },
  {
   "cell_type": "code",
   "execution_count": null,
   "metadata": {},
   "outputs": [],
   "source": []
  },
  {
   "cell_type": "code",
   "execution_count": null,
   "metadata": {
    "tags": []
   },
   "outputs": [],
   "source": [
    "train_loss, accuracy_test, accuracy_val = train_and_evaluate_network(100, dataloaders, net, log=False)"
   ]
  },
  {
   "cell_type": "code",
   "execution_count": null,
   "metadata": {},
   "outputs": [],
   "source": [
    "res=[[],[],[]]"
   ]
  },
  {
   "cell_type": "code",
   "execution_count": null,
   "metadata": {},
   "outputs": [],
   "source": [
    "for i in range(10):\n",
    "    train_loss, accuracy_test, accuracy_val = train_and_evaluate_network(100, dataloaders, net, log=False)\n",
    "    res[0].append(train_loss)\n",
    "    res[1].append(accuracy_test)\n",
    "    res[2].append(accuracy_val)"
   ]
  },
  {
   "cell_type": "code",
   "execution_count": null,
   "metadata": {},
   "outputs": [],
   "source": [
    "res = np.array(res)\n",
    "res = res.T"
   ]
  },
  {
   "cell_type": "code",
   "execution_count": null,
   "metadata": {},
   "outputs": [],
   "source": [
    "df = pd.DataFrame(data=res,columns=['train_loss','accuracy_test','accuracy_val'])"
   ]
  },
  {
   "cell_type": "code",
   "execution_count": null,
   "metadata": {},
   "outputs": [],
   "source": [
    "df.info()"
   ]
  },
  {
   "cell_type": "code",
   "execution_count": null,
   "metadata": {},
   "outputs": [],
   "source": [
    "df.head()"
   ]
  },
  {
   "cell_type": "code",
   "execution_count": null,
   "metadata": {},
   "outputs": [],
   "source": [
    "df.describe()"
   ]
  },
  {
   "cell_type": "code",
   "execution_count": null,
   "metadata": {},
   "outputs": [],
   "source": []
  }
 ],
 "metadata": {
  "kernelspec": {
   "display_name": "pytorch",
   "language": "python",
   "name": "pytorch"
  },
  "language_info": {
   "codemirror_mode": {
    "name": "ipython",
    "version": 3
   },
   "file_extension": ".py",
   "mimetype": "text/x-python",
   "name": "python",
   "nbconvert_exporter": "python",
   "pygments_lexer": "ipython3",
   "version": "3.7.3"
  }
 },
 "nbformat": 4,
 "nbformat_minor": 4
}
